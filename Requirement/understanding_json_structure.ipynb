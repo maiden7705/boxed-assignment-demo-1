{
 "cells": [
  {
   "cell_type": "markdown",
   "metadata": {},
   "source": [
    "# Json file analysis\n",
    "This json dump contains multi level nested structure, though not complex, let find out distinct nested keys and their parent"
   ]
  },
  {
   "cell_type": "code",
   "execution_count": 35,
   "metadata": {},
   "outputs": [],
   "source": [
    "# this is because jupyter kernel dies very often, so on restarts, all the imports need to be reloaded\n",
    "import json, sys, os\n",
    "module_path = os.path.abspath(os.path.join('..'))\n",
    "if module_path not in sys.path:\n",
    "    sys.path.append(module_path)\n",
    "import utils as u"
   ]
  },
  {
   "cell_type": "code",
   "execution_count": 36,
   "metadata": {},
   "outputs": [
    {
     "name": "stdout",
     "output_type": "stream",
     "text": [
      "['address', 'bsProperties', 'performance', 'properties', 'report', 'smartbrand', 'telephoneVerification', 'thestralFeatures']\n",
      "['properties', 'properties:address', 'properties:address:telephoneVerification', 'properties:bsProperties', 'properties:performance', 'properties:report', 'properties:smartbrand', 'properties:thestralFeatures']\n"
     ]
    }
   ],
   "source": [
    "with open(\"testEventData-1.txt\") as json_file:\n",
    "    for line in json_file:\n",
    "        node = json.loads(line)\n",
    "        node_tree = list(map(':'.join, u.keys(node)))\n",
    "        u.node_tree_list.append(node_tree)\n",
    "        nested_parents_only = list(set(filter(None, [u.get_last_elements(node) for node in node_tree])))\n",
    "        u.distinct_elements.append(nested_parents_only)\n",
    "flat_list = list(set(u.flatten_nested_list(u.distinct_elements)))\n",
    "u.distinct_list_elements(u.flatten_nested_list(u.node_tree_list))\n",
    "flat_list.sort()\n",
    "print(flat_list)\n",
    "\n",
    "final_distinct_node_tree = list(set(filter(None, [u.item_in_this_list(item, flat_list) for item in u.distinct_flat_node_tree_list])))\n",
    "final_distinct_node_tree.sort()\n",
    "print(final_distinct_node_tree)\n",
    "\n",
    "      "
   ]
  },
  {
   "cell_type": "markdown",
   "metadata": {},
   "source": [
    "### Converting the file to valid JSON\n",
    "The file is collection of json dictionaries, but not embedded in a json root node, lets do that"
   ]
  },
  {
   "cell_type": "code",
   "execution_count": 3,
   "metadata": {},
   "outputs": [],
   "source": [
    "json_events = {}\n",
    "with open('testEventData-1.txt', 'r') as f:\n",
    "    events = [json.loads(line) for line in f]\n",
    "json_events['events'] = events\n",
    "with open('testEventData-1.json', 'w', encoding='utf-8') as f:\n",
    "    json.dump(json_events, f, ensure_ascii=False, indent=4)\n"
   ]
  },
  {
   "cell_type": "markdown",
   "metadata": {},
   "source": [
    "### Tree view\n",
    "Lets see how this JSON tree looks like"
   ]
  },
  {
   "cell_type": "code",
   "execution_count": 40,
   "metadata": {},
   "outputs": [
    {
     "ename": "AttributeError",
     "evalue": "module 'utils' has no attribute 'foo'",
     "output_type": "error",
     "traceback": [
      "\u001b[0;31m---------------------------------------------------------------------------\u001b[0m",
      "\u001b[0;31mAttributeError\u001b[0m                            Traceback (most recent call last)",
      "Cell \u001b[0;32mIn [40], line 10\u001b[0m\n\u001b[1;32m      6\u001b[0m     events_json \u001b[39m=\u001b[39m json\u001b[39m.\u001b[39mload(f)\n\u001b[1;32m      8\u001b[0m \u001b[39mfor\u001b[39;00m item \u001b[39min\u001b[39;00m events_json[\u001b[39m'\u001b[39m\u001b[39mevents\u001b[39m\u001b[39m'\u001b[39m]:\n\u001b[1;32m      9\u001b[0m     \u001b[39m# u.distinct_depth_nodes(item, 'event')\u001b[39;00m\n\u001b[0;32m---> 10\u001b[0m     u\u001b[39m.\u001b[39;49mfoo()\n\u001b[1;32m     11\u001b[0m edges_deduped \u001b[39m=\u001b[39m u\u001b[39m.\u001b[39mremoveDuplicates(u\u001b[39m.\u001b[39medges)\n\u001b[1;32m     12\u001b[0m \u001b[39mprint\u001b[39m(edges_deduped)\n",
      "\u001b[0;31mAttributeError\u001b[0m: module 'utils' has no attribute 'foo'"
     ]
    }
   ],
   "source": [
    "import json, graphviz\n",
    "from graphviz import Source\n",
    "from IPython.display import Image\n",
    "import utils as u\n",
    "with open(os.path.join(os.getcwd(), './testEventData-1.json'), 'r') as f:\n",
    "    events_json = json.load(f)\n",
    "\n",
    "for item in events_json['events']:\n",
    "    # u.distinct_depth_nodes(item, 'event')\n",
    "    u.foo()\n",
    "edges_deduped = u.removeDuplicates(u.edges)\n",
    "print(edges_deduped)\n",
    "\n",
    "# Dump edges in a grapgViz format\n",
    "u.create_diagraph_file(edges_deduped)\n",
    "\n",
    "Source.from_file('json_tree.gv', format='png')\n",
    "Image(filename='json_tree.gv.png')"
   ]
  }
 ],
 "metadata": {
  "kernelspec": {
   "display_name": "Python 3.8.2 64-bit",
   "language": "python",
   "name": "python3"
  },
  "language_info": {
   "codemirror_mode": {
    "name": "ipython",
    "version": 3
   },
   "file_extension": ".py",
   "mimetype": "text/x-python",
   "name": "python",
   "nbconvert_exporter": "python",
   "pygments_lexer": "ipython3",
   "version": "3.8.10"
  },
  "orig_nbformat": 4,
  "vscode": {
   "interpreter": {
    "hash": "916dbcbb3f70747c44a77c7bcd40155683ae19c65e1c03b4aa3499c5328201f1"
   }
  }
 },
 "nbformat": 4,
 "nbformat_minor": 2
}
